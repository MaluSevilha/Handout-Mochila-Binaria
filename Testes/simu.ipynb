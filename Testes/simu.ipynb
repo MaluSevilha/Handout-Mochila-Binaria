{
 "cells": [
  {
   "cell_type": "code",
   "execution_count": 55,
   "id": "1e3b887f",
   "metadata": {},
   "outputs": [],
   "source": [
    "import matplotlib.pyplot as plt\n",
    "import matplotlib.colors as mcolors\n",
    "import pandas as pd\n",
    "import numpy as np\n",
    "import os"
   ]
  },
  {
   "cell_type": "code",
   "execution_count": 56,
   "id": "91a628a3",
   "metadata": {},
   "outputs": [],
   "source": [
    "# Ler a tabela\n",
    "df = pd.read_excel('mochilaCansada.xlsx', index_col=0)\n",
    "rows, cols = df.shape\n",
    "\n",
    "# Definir cores fixas para cada CPU\n",
    "cpu_colors = {\n",
    "    'A': np.array(mcolors.to_rgb('#4f83cc')),\n",
    "    'B': np.array(mcolors.to_rgb('#ffcc00')),\n",
    "    'C': np.array(mcolors.to_rgb('#99cc00')),\n",
    "    'D': np.array(mcolors.to_rgb('#cc66cc')),\n",
    "    'E': np.array(mcolors.to_rgb('#ff9933')),\n",
    "    'F': np.array(mcolors.to_rgb('#ff66b2')),\n",
    "    'G': np.array(mcolors.to_rgb('#00cccc')),\n",
    "    'H': np.array(mcolors.to_rgb('#339966')),\n",
    "}\n",
    "\n",
    "# Cor para zero\n",
    "zero_color = np.array(mcolors.to_rgb('#ffcccc'))\n",
    "# Cor para vazio\n",
    "empty_color = np.array(mcolors.to_rgb('#d9d9d9'))\n"
   ]
  },
  {
   "cell_type": "code",
   "execution_count": 57,
   "id": "c09a0036",
   "metadata": {},
   "outputs": [],
   "source": [
    "\n",
    "# Lista de CPUs\n",
    "table_cpus = {\n",
    "    'A': (8, 76),\n",
    "    'B': (3, 37),\n",
    "    'C': (6, 47),\n",
    "    'D': (5, 60),\n",
    "    'E': (9, 91),\n",
    "    'F': (2, 21),\n",
    "    'G': (7, 86),\n",
    "    'H': (4, 36),\n",
    "}\n",
    "\n",
    "cpu_list = list(table_cpus.items())\n"
   ]
  },
  {
   "cell_type": "code",
   "execution_count": 58,
   "id": "91d42566",
   "metadata": {},
   "outputs": [
    {
     "data": {
      "text/plain": [
       "'simu'"
      ]
     },
     "execution_count": 58,
     "metadata": {},
     "output_type": "execute_result"
    }
   ],
   "source": [
    "\n",
    "# Função para reconstruir as CPUs usadas\n",
    "def get_used_cpus(i, w, dp):\n",
    "    used = []\n",
    "    while i > 0 and w >= 0:\n",
    "        cpu_name, (cost, perf) = cpu_list[i-1]\n",
    "        if cost <= w and not np.isnan(dp[i-1][w-cost]) and dp[i][w] == perf + dp[i-1][w-cost]:\n",
    "            used.append(cpu_name)\n",
    "            w -= cost\n",
    "            i -= 1\n",
    "        else:\n",
    "            i -= 1\n",
    "    return used[::-1]\n",
    "\n",
    "# Criar pasta para frames\n",
    "os.makedirs('simu', exist_ok=True)\n",
    "\n",
    "# Inicializar matriz vazia (tudo cinza e sem texto)\n",
    "current_matrix = np.full((rows, cols), np.nan)\n",
    "frame_num = 0\n",
    "\n",
    "# Gerar os frames preenchendo célula por célula\n",
    "for i in range(rows):\n",
    "    for j in range(cols):\n",
    "        fig, ax = plt.subplots(figsize=(14, 7))\n",
    "        ax.axis('off')\n",
    "\n",
    "        # Atualizar apenas uma célula neste frame\n",
    "        current_matrix_copy = np.copy(current_matrix)\n",
    "        current_matrix_copy[i, j] = df.values[i, j]\n",
    "\n",
    "        # Desenhar cabeçalhos fixos\n",
    "        ax.text(0.5, rows + 0.5, 'i/w', ha='center', va='center', fontsize=8, fontweight='bold')\n",
    "        for c in range(cols):\n",
    "            ax.text(c + 1.5, rows + 0.5, str(c), ha='center', va='center', fontsize=8, fontweight='bold')\n",
    "        for r in range(rows):\n",
    "            if r == 0:\n",
    "                label = '0'\n",
    "                color = empty_color\n",
    "            else:\n",
    "                label = f'{r} ({cpu_list[r-1][0]})'\n",
    "                color = cpu_colors[cpu_list[r-1][0]]\n",
    "            ax.add_patch(plt.Rectangle((0, rows - 1 - r), 1, 1, color=color, ec='white'))\n",
    "            ax.text(0.5, rows - r - 0.5, label, ha='center', va='center', fontsize=8, fontweight='bold', color='black')\n",
    "\n",
    "        # Preencher células\n",
    "        for r in range(rows):\n",
    "            for c in range(cols):\n",
    "                val = current_matrix_copy[r, c]\n",
    "                if np.isnan(val):\n",
    "                    color = empty_color\n",
    "                    text = ''\n",
    "                elif val == 0:\n",
    "                    color = zero_color\n",
    "                    text = '0'\n",
    "                else:\n",
    "                    used = get_used_cpus(r, c, current_matrix_copy)\n",
    "                    if used:\n",
    "                        colors = [cpu_colors[cpu] for cpu in used]\n",
    "                        color = np.mean(colors, axis=0)\n",
    "                    else:\n",
    "                        color = zero_color\n",
    "                    text = str(int(val))\n",
    "\n",
    "                ax.add_patch(plt.Rectangle((c + 1, rows - 1 - r), 1, 1, color=color, ec='white'))\n",
    "                if text != '':\n",
    "                    ax.text(c + 1.5, rows - r - 0.5, text, ha='center', va='center', fontsize=8, color='black')\n",
    "\n",
    "        ax.set_xlim(0, cols + 1)\n",
    "        ax.set_ylim(0, rows + 1)\n",
    "\n",
    "        frame_path = f'simu/frame_{frame_num:03d}.png'\n",
    "        plt.savefig(frame_path, bbox_inches='tight', pad_inches=0.1)\n",
    "        plt.close()\n",
    "\n",
    "        frame_num += 1\n",
    "\n",
    "        # Atualizar a matriz para o próximo frame\n",
    "        current_matrix[i, j] = df.values[i, j]\n",
    "\n",
    "'simu'"
   ]
  },
  {
   "cell_type": "code",
   "execution_count": 59,
   "id": "51d66c67",
   "metadata": {},
   "outputs": [
    {
     "name": "stderr",
     "output_type": "stream",
     "text": [
      "/var/folders/1g/ltkt__ks3939079g0t1s921h0000gn/T/ipykernel_80762/2503027876.py:12: DeprecationWarning: Starting with ImageIO v3 the behavior of this function will switch to that of iio.v3.imread. To keep the current behavior (and make this warning disappear) use `import imageio.v2 as imageio` or call `imageio.v2.imread` directly.\n",
      "  frames = [imageio.imread(frame) for frame in frame_files]\n"
     ]
    },
    {
     "data": {
      "text/plain": [
       "'mnt/output.gif'"
      ]
     },
     "execution_count": 59,
     "metadata": {},
     "output_type": "execute_result"
    }
   ],
   "source": [
    "import imageio\n",
    "import os\n",
    "\n",
    "# Pasta onde estão os frames\n",
    "frames_dir = 'simu'\n",
    "output_gif = 'mnt/output.gif'  # Salvar o GIF na pasta 'simu'\n",
    "\n",
    "# Ordenar os frames\n",
    "frame_files = sorted([os.path.join(frames_dir, f) for f in os.listdir(frames_dir) if f.endswith('.png')])\n",
    "\n",
    "# Carregar os frames\n",
    "frames = [imageio.imread(frame) for frame in frame_files]\n",
    "\n",
    "# Criar o GIF\n",
    "imageio.mimsave(output_gif, frames, duration=0.15)  # 0.15s por frame (ajustável)\n",
    "\n",
    "output_gif"
   ]
  }
 ],
 "metadata": {
  "kernelspec": {
   "display_name": "base",
   "language": "python",
   "name": "python3"
  },
  "language_info": {
   "codemirror_mode": {
    "name": "ipython",
    "version": 3
   },
   "file_extension": ".py",
   "mimetype": "text/x-python",
   "name": "python",
   "nbconvert_exporter": "python",
   "pygments_lexer": "ipython3",
   "version": "3.12.4"
  }
 },
 "nbformat": 4,
 "nbformat_minor": 5
}
